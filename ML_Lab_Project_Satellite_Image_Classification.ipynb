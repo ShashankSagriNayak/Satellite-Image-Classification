{
 "cells": [
  {
   "cell_type": "markdown",
   "id": "fae72008",
   "metadata": {},
   "source": [
    "# ML Lab Project On Satellite Image Classification using PCA"
   ]
  },
  {
   "cell_type": "code",
   "execution_count": 1,
   "id": "2ebcca75",
   "metadata": {},
   "outputs": [],
   "source": [
    "import os\n",
    "import pandas as pd\n",
    "import numpy as np\n",
    "from PIL import Image\n",
    "from sklearn.decomposition import PCA\n",
    "import matplotlib.pyplot as pt"
   ]
  },
  {
   "cell_type": "markdown",
   "id": "e3dec37c",
   "metadata": {},
   "source": [
    "# Function to load images from a folder"
   ]
  },
  {
   "cell_type": "code",
   "execution_count": 2,
   "id": "0a1afbc2",
   "metadata": {},
   "outputs": [],
   "source": [
    "def load_images_from_folder(folder):\n",
    "    images = []\n",
    "    for filename in os.listdir(folder):\n",
    "        img = Image.open(os.path.join(folder, filename))\n",
    "        if img is not None:\n",
    "            images.append(img)\n",
    "    return images"
   ]
  },
  {
   "cell_type": "markdown",
   "id": "f7094182",
   "metadata": {},
   "source": [
    "# Function to preprocess images "
   ]
  },
  {
   "cell_type": "code",
   "execution_count": 3,
   "id": "93606daf",
   "metadata": {},
   "outputs": [],
   "source": [
    "def preprocess_images(images):\n",
    "    preprocessed_images = [img.convert('L').resize((100, 100)) for img in images]\n",
    "    return preprocessed_images"
   ]
  },
  {
   "cell_type": "markdown",
   "id": "6ecc7909",
   "metadata": {},
   "source": [
    "# Function to flatten images"
   ]
  },
  {
   "cell_type": "code",
   "execution_count": 4,
   "id": "21e27132",
   "metadata": {},
   "outputs": [],
   "source": [
    "def flatten_images(images):\n",
    "    flattened_images = [np.array(img).flatten() for img in images]\n",
    "    return flattened_images"
   ]
  },
  {
   "cell_type": "markdown",
   "id": "ab3c9c3f",
   "metadata": {},
   "source": [
    "# Load images from different folders"
   ]
  },
  {
   "cell_type": "code",
   "execution_count": 5,
   "id": "4e75e49c",
   "metadata": {},
   "outputs": [],
   "source": [
    "folder_paths = ['Satellite_Image_Classification\\\\data\\\\cloudy','Satellite_Image_Classification\\\\data\\\\green_area','Satellite_Image_Classification\\\\data\\\\water', 'Satellite_Image_Classification\\\\data\\\\desert']\n",
    "all_images = []\n",
    "for folder_path in folder_paths:\n",
    "    images = load_images_from_folder(folder_path)\n",
    "    preprocessed_images = preprocess_images(images)\n",
    "    all_images.extend(preprocessed_images)"
   ]
  },
  {
   "cell_type": "markdown",
   "id": "edf438a9",
   "metadata": {},
   "source": [
    "# Flatten and stack image data"
   ]
  },
  {
   "cell_type": "code",
   "execution_count": 6,
   "id": "b5928d27",
   "metadata": {},
   "outputs": [
    {
     "data": {
      "text/plain": [
       "10000"
      ]
     },
     "execution_count": 6,
     "metadata": {},
     "output_type": "execute_result"
    }
   ],
   "source": [
    "stacked_images = np.stack(flatten_images(all_images))\n",
    "len(stacked_images[0])"
   ]
  },
  {
   "cell_type": "markdown",
   "id": "0dc10c66",
   "metadata": {},
   "source": [
    "# Perform PCA"
   ]
  },
  {
   "cell_type": "code",
   "execution_count": 7,
   "id": "0c51dc21",
   "metadata": {},
   "outputs": [
    {
     "data": {
      "text/html": [
       "<style>#sk-container-id-1 {color: black;background-color: white;}#sk-container-id-1 pre{padding: 0;}#sk-container-id-1 div.sk-toggleable {background-color: white;}#sk-container-id-1 label.sk-toggleable__label {cursor: pointer;display: block;width: 100%;margin-bottom: 0;padding: 0.3em;box-sizing: border-box;text-align: center;}#sk-container-id-1 label.sk-toggleable__label-arrow:before {content: \"▸\";float: left;margin-right: 0.25em;color: #696969;}#sk-container-id-1 label.sk-toggleable__label-arrow:hover:before {color: black;}#sk-container-id-1 div.sk-estimator:hover label.sk-toggleable__label-arrow:before {color: black;}#sk-container-id-1 div.sk-toggleable__content {max-height: 0;max-width: 0;overflow: hidden;text-align: left;background-color: #f0f8ff;}#sk-container-id-1 div.sk-toggleable__content pre {margin: 0.2em;color: black;border-radius: 0.25em;background-color: #f0f8ff;}#sk-container-id-1 input.sk-toggleable__control:checked~div.sk-toggleable__content {max-height: 200px;max-width: 100%;overflow: auto;}#sk-container-id-1 input.sk-toggleable__control:checked~label.sk-toggleable__label-arrow:before {content: \"▾\";}#sk-container-id-1 div.sk-estimator input.sk-toggleable__control:checked~label.sk-toggleable__label {background-color: #d4ebff;}#sk-container-id-1 div.sk-label input.sk-toggleable__control:checked~label.sk-toggleable__label {background-color: #d4ebff;}#sk-container-id-1 input.sk-hidden--visually {border: 0;clip: rect(1px 1px 1px 1px);clip: rect(1px, 1px, 1px, 1px);height: 1px;margin: -1px;overflow: hidden;padding: 0;position: absolute;width: 1px;}#sk-container-id-1 div.sk-estimator {font-family: monospace;background-color: #f0f8ff;border: 1px dotted black;border-radius: 0.25em;box-sizing: border-box;margin-bottom: 0.5em;}#sk-container-id-1 div.sk-estimator:hover {background-color: #d4ebff;}#sk-container-id-1 div.sk-parallel-item::after {content: \"\";width: 100%;border-bottom: 1px solid gray;flex-grow: 1;}#sk-container-id-1 div.sk-label:hover label.sk-toggleable__label {background-color: #d4ebff;}#sk-container-id-1 div.sk-serial::before {content: \"\";position: absolute;border-left: 1px solid gray;box-sizing: border-box;top: 0;bottom: 0;left: 50%;z-index: 0;}#sk-container-id-1 div.sk-serial {display: flex;flex-direction: column;align-items: center;background-color: white;padding-right: 0.2em;padding-left: 0.2em;position: relative;}#sk-container-id-1 div.sk-item {position: relative;z-index: 1;}#sk-container-id-1 div.sk-parallel {display: flex;align-items: stretch;justify-content: center;background-color: white;position: relative;}#sk-container-id-1 div.sk-item::before, #sk-container-id-1 div.sk-parallel-item::before {content: \"\";position: absolute;border-left: 1px solid gray;box-sizing: border-box;top: 0;bottom: 0;left: 50%;z-index: -1;}#sk-container-id-1 div.sk-parallel-item {display: flex;flex-direction: column;z-index: 1;position: relative;background-color: white;}#sk-container-id-1 div.sk-parallel-item:first-child::after {align-self: flex-end;width: 50%;}#sk-container-id-1 div.sk-parallel-item:last-child::after {align-self: flex-start;width: 50%;}#sk-container-id-1 div.sk-parallel-item:only-child::after {width: 0;}#sk-container-id-1 div.sk-dashed-wrapped {border: 1px dashed gray;margin: 0 0.4em 0.5em 0.4em;box-sizing: border-box;padding-bottom: 0.4em;background-color: white;}#sk-container-id-1 div.sk-label label {font-family: monospace;font-weight: bold;display: inline-block;line-height: 1.2em;}#sk-container-id-1 div.sk-label-container {text-align: center;}#sk-container-id-1 div.sk-container {/* jupyter's `normalize.less` sets `[hidden] { display: none; }` but bootstrap.min.css set `[hidden] { display: none !important; }` so we also need the `!important` here to be able to override the default hidden behavior on the sphinx rendered scikit-learn.org. See: https://github.com/scikit-learn/scikit-learn/issues/21755 */display: inline-block !important;position: relative;}#sk-container-id-1 div.sk-text-repr-fallback {display: none;}</style><div id=\"sk-container-id-1\" class=\"sk-top-container\"><div class=\"sk-text-repr-fallback\"><pre>PCA(n_components=30)</pre><b>In a Jupyter environment, please rerun this cell to show the HTML representation or trust the notebook. <br />On GitHub, the HTML representation is unable to render, please try loading this page with nbviewer.org.</b></div><div class=\"sk-container\" hidden><div class=\"sk-item\"><div class=\"sk-estimator sk-toggleable\"><input class=\"sk-toggleable__control sk-hidden--visually\" id=\"sk-estimator-id-1\" type=\"checkbox\" checked><label for=\"sk-estimator-id-1\" class=\"sk-toggleable__label sk-toggleable__label-arrow\">PCA</label><div class=\"sk-toggleable__content\"><pre>PCA(n_components=30)</pre></div></div></div></div></div>"
      ],
      "text/plain": [
       "PCA(n_components=30)"
      ]
     },
     "execution_count": 7,
     "metadata": {},
     "output_type": "execute_result"
    }
   ],
   "source": [
    "pca = PCA(n_components=30)  # Specify number of principal components\n",
    "pca.fit(stacked_images)"
   ]
  },
  {
   "cell_type": "markdown",
   "id": "9d690650",
   "metadata": {},
   "source": [
    "# Transform data into principal component space"
   ]
  },
  {
   "cell_type": "code",
   "execution_count": 8,
   "id": "5c3ca569",
   "metadata": {},
   "outputs": [
    {
     "data": {
      "text/html": [
       "<div>\n",
       "<style scoped>\n",
       "    .dataframe tbody tr th:only-of-type {\n",
       "        vertical-align: middle;\n",
       "    }\n",
       "\n",
       "    .dataframe tbody tr th {\n",
       "        vertical-align: top;\n",
       "    }\n",
       "\n",
       "    .dataframe thead th {\n",
       "        text-align: right;\n",
       "    }\n",
       "</style>\n",
       "<table border=\"1\" class=\"dataframe\">\n",
       "  <thead>\n",
       "    <tr style=\"text-align: right;\">\n",
       "      <th></th>\n",
       "      <th>0</th>\n",
       "      <th>1</th>\n",
       "      <th>2</th>\n",
       "      <th>3</th>\n",
       "      <th>4</th>\n",
       "      <th>5</th>\n",
       "      <th>6</th>\n",
       "      <th>7</th>\n",
       "      <th>8</th>\n",
       "      <th>9</th>\n",
       "      <th>...</th>\n",
       "      <th>21</th>\n",
       "      <th>22</th>\n",
       "      <th>23</th>\n",
       "      <th>24</th>\n",
       "      <th>25</th>\n",
       "      <th>26</th>\n",
       "      <th>27</th>\n",
       "      <th>28</th>\n",
       "      <th>29</th>\n",
       "      <th>res</th>\n",
       "    </tr>\n",
       "  </thead>\n",
       "  <tbody>\n",
       "    <tr>\n",
       "      <th>0</th>\n",
       "      <td>9492.317530</td>\n",
       "      <td>408.875297</td>\n",
       "      <td>772.081847</td>\n",
       "      <td>458.599106</td>\n",
       "      <td>-64.061975</td>\n",
       "      <td>214.885289</td>\n",
       "      <td>-55.686692</td>\n",
       "      <td>-7.952395</td>\n",
       "      <td>301.210471</td>\n",
       "      <td>-118.385835</td>\n",
       "      <td>...</td>\n",
       "      <td>-135.335377</td>\n",
       "      <td>96.842324</td>\n",
       "      <td>48.516410</td>\n",
       "      <td>101.053092</td>\n",
       "      <td>246.074090</td>\n",
       "      <td>178.586762</td>\n",
       "      <td>-0.175751</td>\n",
       "      <td>346.886671</td>\n",
       "      <td>102.379273</td>\n",
       "      <td>0</td>\n",
       "    </tr>\n",
       "    <tr>\n",
       "      <th>1</th>\n",
       "      <td>6254.627669</td>\n",
       "      <td>-25.255734</td>\n",
       "      <td>156.539224</td>\n",
       "      <td>-69.703338</td>\n",
       "      <td>39.056392</td>\n",
       "      <td>-3.617502</td>\n",
       "      <td>19.329989</td>\n",
       "      <td>-9.650560</td>\n",
       "      <td>19.284373</td>\n",
       "      <td>-24.105849</td>\n",
       "      <td>...</td>\n",
       "      <td>-8.169276</td>\n",
       "      <td>-6.110412</td>\n",
       "      <td>15.857966</td>\n",
       "      <td>2.952965</td>\n",
       "      <td>14.210804</td>\n",
       "      <td>8.224349</td>\n",
       "      <td>-8.240990</td>\n",
       "      <td>-16.900882</td>\n",
       "      <td>5.137388</td>\n",
       "      <td>0</td>\n",
       "    </tr>\n",
       "    <tr>\n",
       "      <th>2</th>\n",
       "      <td>5449.681685</td>\n",
       "      <td>-192.715555</td>\n",
       "      <td>204.140305</td>\n",
       "      <td>-169.854058</td>\n",
       "      <td>18.752504</td>\n",
       "      <td>-94.230252</td>\n",
       "      <td>-86.979246</td>\n",
       "      <td>36.207700</td>\n",
       "      <td>52.887687</td>\n",
       "      <td>66.797281</td>\n",
       "      <td>...</td>\n",
       "      <td>34.308383</td>\n",
       "      <td>-16.834826</td>\n",
       "      <td>12.991210</td>\n",
       "      <td>5.930296</td>\n",
       "      <td>50.448028</td>\n",
       "      <td>-22.994823</td>\n",
       "      <td>-25.716451</td>\n",
       "      <td>-16.251901</td>\n",
       "      <td>-7.183634</td>\n",
       "      <td>0</td>\n",
       "    </tr>\n",
       "    <tr>\n",
       "      <th>3</th>\n",
       "      <td>4439.764848</td>\n",
       "      <td>-250.370130</td>\n",
       "      <td>-111.742506</td>\n",
       "      <td>-52.156928</td>\n",
       "      <td>40.055920</td>\n",
       "      <td>-37.867520</td>\n",
       "      <td>-11.314254</td>\n",
       "      <td>35.197195</td>\n",
       "      <td>34.852511</td>\n",
       "      <td>5.516121</td>\n",
       "      <td>...</td>\n",
       "      <td>-19.866021</td>\n",
       "      <td>-17.178101</td>\n",
       "      <td>-14.457315</td>\n",
       "      <td>2.476085</td>\n",
       "      <td>1.506649</td>\n",
       "      <td>8.472664</td>\n",
       "      <td>-11.380123</td>\n",
       "      <td>-10.889611</td>\n",
       "      <td>-17.018110</td>\n",
       "      <td>0</td>\n",
       "    </tr>\n",
       "    <tr>\n",
       "      <th>4</th>\n",
       "      <td>4098.888878</td>\n",
       "      <td>29.801748</td>\n",
       "      <td>33.496727</td>\n",
       "      <td>-41.759923</td>\n",
       "      <td>12.051806</td>\n",
       "      <td>-3.961463</td>\n",
       "      <td>-17.477611</td>\n",
       "      <td>7.546562</td>\n",
       "      <td>-1.718920</td>\n",
       "      <td>0.065738</td>\n",
       "      <td>...</td>\n",
       "      <td>-8.950993</td>\n",
       "      <td>-7.663540</td>\n",
       "      <td>6.837823</td>\n",
       "      <td>5.906466</td>\n",
       "      <td>-1.366204</td>\n",
       "      <td>-1.012083</td>\n",
       "      <td>-2.283259</td>\n",
       "      <td>-1.635865</td>\n",
       "      <td>-1.590743</td>\n",
       "      <td>0</td>\n",
       "    </tr>\n",
       "    <tr>\n",
       "      <th>...</th>\n",
       "      <td>...</td>\n",
       "      <td>...</td>\n",
       "      <td>...</td>\n",
       "      <td>...</td>\n",
       "      <td>...</td>\n",
       "      <td>...</td>\n",
       "      <td>...</td>\n",
       "      <td>...</td>\n",
       "      <td>...</td>\n",
       "      <td>...</td>\n",
       "      <td>...</td>\n",
       "      <td>...</td>\n",
       "      <td>...</td>\n",
       "      <td>...</td>\n",
       "      <td>...</td>\n",
       "      <td>...</td>\n",
       "      <td>...</td>\n",
       "      <td>...</td>\n",
       "      <td>...</td>\n",
       "      <td>...</td>\n",
       "      <td>...</td>\n",
       "    </tr>\n",
       "    <tr>\n",
       "      <th>5626</th>\n",
       "      <td>5878.231279</td>\n",
       "      <td>44.938164</td>\n",
       "      <td>-17.272015</td>\n",
       "      <td>-46.408280</td>\n",
       "      <td>7.131778</td>\n",
       "      <td>-11.583483</td>\n",
       "      <td>3.738764</td>\n",
       "      <td>-1.038671</td>\n",
       "      <td>1.037701</td>\n",
       "      <td>-1.004028</td>\n",
       "      <td>...</td>\n",
       "      <td>0.902309</td>\n",
       "      <td>-3.471855</td>\n",
       "      <td>-0.623560</td>\n",
       "      <td>-0.922519</td>\n",
       "      <td>1.226975</td>\n",
       "      <td>-0.053582</td>\n",
       "      <td>1.638755</td>\n",
       "      <td>-1.157048</td>\n",
       "      <td>-0.671637</td>\n",
       "      <td>3</td>\n",
       "    </tr>\n",
       "    <tr>\n",
       "      <th>5627</th>\n",
       "      <td>5818.671901</td>\n",
       "      <td>31.963338</td>\n",
       "      <td>1.810743</td>\n",
       "      <td>-40.133123</td>\n",
       "      <td>6.654857</td>\n",
       "      <td>-12.537374</td>\n",
       "      <td>10.262308</td>\n",
       "      <td>0.363038</td>\n",
       "      <td>-2.154592</td>\n",
       "      <td>2.434410</td>\n",
       "      <td>...</td>\n",
       "      <td>3.111219</td>\n",
       "      <td>-2.589310</td>\n",
       "      <td>-0.564229</td>\n",
       "      <td>-0.479860</td>\n",
       "      <td>2.925169</td>\n",
       "      <td>-4.411875</td>\n",
       "      <td>5.574929</td>\n",
       "      <td>1.048938</td>\n",
       "      <td>-2.330719</td>\n",
       "      <td>3</td>\n",
       "    </tr>\n",
       "    <tr>\n",
       "      <th>5628</th>\n",
       "      <td>5839.769810</td>\n",
       "      <td>16.314064</td>\n",
       "      <td>9.250522</td>\n",
       "      <td>-44.716890</td>\n",
       "      <td>5.757504</td>\n",
       "      <td>-16.320271</td>\n",
       "      <td>-13.784576</td>\n",
       "      <td>1.890750</td>\n",
       "      <td>7.377837</td>\n",
       "      <td>8.525716</td>\n",
       "      <td>...</td>\n",
       "      <td>0.329817</td>\n",
       "      <td>-1.808445</td>\n",
       "      <td>1.846433</td>\n",
       "      <td>-3.548584</td>\n",
       "      <td>6.795371</td>\n",
       "      <td>6.006939</td>\n",
       "      <td>0.723392</td>\n",
       "      <td>2.142370</td>\n",
       "      <td>1.834034</td>\n",
       "      <td>3</td>\n",
       "    </tr>\n",
       "    <tr>\n",
       "      <th>5629</th>\n",
       "      <td>5925.754213</td>\n",
       "      <td>12.555687</td>\n",
       "      <td>0.226152</td>\n",
       "      <td>-43.790980</td>\n",
       "      <td>14.417053</td>\n",
       "      <td>-18.295687</td>\n",
       "      <td>3.220507</td>\n",
       "      <td>3.524218</td>\n",
       "      <td>-2.276638</td>\n",
       "      <td>-0.481842</td>\n",
       "      <td>...</td>\n",
       "      <td>-3.268925</td>\n",
       "      <td>-0.197985</td>\n",
       "      <td>-4.310042</td>\n",
       "      <td>-0.942483</td>\n",
       "      <td>0.059714</td>\n",
       "      <td>-1.956553</td>\n",
       "      <td>1.956135</td>\n",
       "      <td>2.069260</td>\n",
       "      <td>-2.785051</td>\n",
       "      <td>3</td>\n",
       "    </tr>\n",
       "    <tr>\n",
       "      <th>5630</th>\n",
       "      <td>5916.220644</td>\n",
       "      <td>0.097669</td>\n",
       "      <td>-15.701146</td>\n",
       "      <td>-50.857631</td>\n",
       "      <td>-17.565727</td>\n",
       "      <td>-3.348019</td>\n",
       "      <td>14.570427</td>\n",
       "      <td>14.374052</td>\n",
       "      <td>-4.002791</td>\n",
       "      <td>-5.566793</td>\n",
       "      <td>...</td>\n",
       "      <td>-5.586724</td>\n",
       "      <td>-5.900254</td>\n",
       "      <td>-7.063001</td>\n",
       "      <td>-8.359589</td>\n",
       "      <td>-3.253046</td>\n",
       "      <td>-6.026631</td>\n",
       "      <td>-0.186282</td>\n",
       "      <td>-0.516655</td>\n",
       "      <td>-3.141036</td>\n",
       "      <td>3</td>\n",
       "    </tr>\n",
       "  </tbody>\n",
       "</table>\n",
       "<p>5631 rows × 31 columns</p>\n",
       "</div>"
      ],
      "text/plain": [
       "                0           1           2           3          4           5  \\\n",
       "0     9492.317530  408.875297  772.081847  458.599106 -64.061975  214.885289   \n",
       "1     6254.627669  -25.255734  156.539224  -69.703338  39.056392   -3.617502   \n",
       "2     5449.681685 -192.715555  204.140305 -169.854058  18.752504  -94.230252   \n",
       "3     4439.764848 -250.370130 -111.742506  -52.156928  40.055920  -37.867520   \n",
       "4     4098.888878   29.801748   33.496727  -41.759923  12.051806   -3.961463   \n",
       "...           ...         ...         ...         ...        ...         ...   \n",
       "5626  5878.231279   44.938164  -17.272015  -46.408280   7.131778  -11.583483   \n",
       "5627  5818.671901   31.963338    1.810743  -40.133123   6.654857  -12.537374   \n",
       "5628  5839.769810   16.314064    9.250522  -44.716890   5.757504  -16.320271   \n",
       "5629  5925.754213   12.555687    0.226152  -43.790980  14.417053  -18.295687   \n",
       "5630  5916.220644    0.097669  -15.701146  -50.857631 -17.565727   -3.348019   \n",
       "\n",
       "              6          7           8           9  ...          21  \\\n",
       "0    -55.686692  -7.952395  301.210471 -118.385835  ... -135.335377   \n",
       "1     19.329989  -9.650560   19.284373  -24.105849  ...   -8.169276   \n",
       "2    -86.979246  36.207700   52.887687   66.797281  ...   34.308383   \n",
       "3    -11.314254  35.197195   34.852511    5.516121  ...  -19.866021   \n",
       "4    -17.477611   7.546562   -1.718920    0.065738  ...   -8.950993   \n",
       "...         ...        ...         ...         ...  ...         ...   \n",
       "5626   3.738764  -1.038671    1.037701   -1.004028  ...    0.902309   \n",
       "5627  10.262308   0.363038   -2.154592    2.434410  ...    3.111219   \n",
       "5628 -13.784576   1.890750    7.377837    8.525716  ...    0.329817   \n",
       "5629   3.220507   3.524218   -2.276638   -0.481842  ...   -3.268925   \n",
       "5630  14.570427  14.374052   -4.002791   -5.566793  ...   -5.586724   \n",
       "\n",
       "             22         23          24          25          26         27  \\\n",
       "0     96.842324  48.516410  101.053092  246.074090  178.586762  -0.175751   \n",
       "1     -6.110412  15.857966    2.952965   14.210804    8.224349  -8.240990   \n",
       "2    -16.834826  12.991210    5.930296   50.448028  -22.994823 -25.716451   \n",
       "3    -17.178101 -14.457315    2.476085    1.506649    8.472664 -11.380123   \n",
       "4     -7.663540   6.837823    5.906466   -1.366204   -1.012083  -2.283259   \n",
       "...         ...        ...         ...         ...         ...        ...   \n",
       "5626  -3.471855  -0.623560   -0.922519    1.226975   -0.053582   1.638755   \n",
       "5627  -2.589310  -0.564229   -0.479860    2.925169   -4.411875   5.574929   \n",
       "5628  -1.808445   1.846433   -3.548584    6.795371    6.006939   0.723392   \n",
       "5629  -0.197985  -4.310042   -0.942483    0.059714   -1.956553   1.956135   \n",
       "5630  -5.900254  -7.063001   -8.359589   -3.253046   -6.026631  -0.186282   \n",
       "\n",
       "              28          29  res  \n",
       "0     346.886671  102.379273    0  \n",
       "1     -16.900882    5.137388    0  \n",
       "2     -16.251901   -7.183634    0  \n",
       "3     -10.889611  -17.018110    0  \n",
       "4      -1.635865   -1.590743    0  \n",
       "...          ...         ...  ...  \n",
       "5626   -1.157048   -0.671637    3  \n",
       "5627    1.048938   -2.330719    3  \n",
       "5628    2.142370    1.834034    3  \n",
       "5629    2.069260   -2.785051    3  \n",
       "5630   -0.516655   -3.141036    3  \n",
       "\n",
       "[5631 rows x 31 columns]"
      ]
     },
     "execution_count": 8,
     "metadata": {},
     "output_type": "execute_result"
    }
   ],
   "source": [
    "transformed_data = pca.transform(stacked_images)\n",
    "df = pd.DataFrame(transformed_data)\n",
    "df['res'] = df.index // 1500\n",
    "df"
   ]
  },
  {
   "cell_type": "code",
   "execution_count": 9,
   "id": "bd818cdd",
   "metadata": {},
   "outputs": [],
   "source": [
    "from sklearn.svm import SVC\n",
    "from sklearn.model_selection import train_test_split as tts\n",
    "from sklearn.ensemble import RandomForestClassifier\n",
    "from sklearn.neighbors import KNeighborsClassifier\n",
    "from sklearn.ensemble import VotingClassifier\n",
    "\n",
    "X = df.iloc[:, :-1]\n",
    "y = df.iloc[:, -1]\n",
    "X, Xt, y, yt = tts(X, y, test_size = 0.2, random_state = 0, shuffle = True)\n",
    "\n",
    "svc = SVC(C = 1000)\n",
    "rf = RandomForestClassifier(random_state = 0)\n",
    "knn = KNeighborsClassifier(n_neighbors = 3)\n",
    "\n",
    "combined = VotingClassifier(estimators = [('svc', svc), ('rf', rf), ('knn', knn)], voting = 'hard')\n",
    "combined.fit(X, y)\n",
    "y_pred = combined.predict(Xt)"
   ]
  },
  {
   "cell_type": "code",
   "execution_count": 10,
   "id": "f19e6a05-ca32-4c08-99ed-2e9d604d9d08",
   "metadata": {},
   "outputs": [
    {
     "name": "stdout",
     "output_type": "stream",
     "text": [
      "Accuracy of model on train set: 0.94\n",
      "Accuracy of model on test set: 0.82\n"
     ]
    },
    {
     "data": {
      "text/plain": [
       "<Axes: >"
      ]
     },
     "execution_count": 10,
     "metadata": {},
     "output_type": "execute_result"
    },
    {
     "data": {
      "image/png": "[encoded data removed]",
      "text/plain": [
       "<Figure size 640x480 with 2 Axes>"
      ]
     },
     "metadata": {},
     "output_type": "display_data"
    }
   ],
   "source": [
    "import sklearn.metrics as m\n",
    "import seaborn as sn\n",
    "print(\"Accuracy of model on train set:\", round(m.accuracy_score(y, combined.predict(X)), 2))\n",
    "print(\"Accuracy of model on test set:\", round(m.accuracy_score(yt, y_pred), 2))\n",
    "sn.heatmap(m.confusion_matrix(yt, y_pred), annot = True, \n",
    "           xticklabels = ['cloudy', 'green', 'water', 'desert'],\n",
    "           yticklabels = ['cloudy', 'green', 'water', 'desert']\n",
    ")"
   ]
  },
  {
   "cell_type": "code",
   "execution_count": 11,
   "id": "8f0ca966-827a-422f-81be-e9eba8b0aef6",
   "metadata": {},
   "outputs": [
    {
     "name": "stdout",
     "output_type": "stream",
     "text": [
      "              precision    recall  f1-score   support\n",
      "\n",
      "           0       0.75      0.86      0.80       290\n",
      "           1       0.85      0.90      0.88       297\n",
      "           2       0.86      0.83      0.84       313\n",
      "           3       0.85      0.67      0.75       227\n",
      "\n",
      "    accuracy                           0.82      1127\n",
      "   macro avg       0.83      0.81      0.82      1127\n",
      "weighted avg       0.83      0.82      0.82      1127\n",
      "\n",
      "\n"
     ]
    }
   ],
   "source": [
    "from sklearn.metrics import classification_report\n",
    "print(classification_report(yt, y_pred), end = \"\\n\\n\")"
   ]
  }
 ],
 "metadata": {
  "kernelspec": {
   "display_name": "Python 3 (ipykernel)",
   "language": "python",
   "name": "python3"
  },
  "language_info": {
   "codemirror_mode": {
    "name": "ipython",
    "version": 3
   },
   "file_extension": ".py",
   "mimetype": "text/x-python",
   "name": "python",
   "nbconvert_exporter": "python",
   "pygments_lexer": "ipython3",
   "version": "3.11.3"
  }
 },
 "nbformat": 4,
 "nbformat_minor": 5
}
